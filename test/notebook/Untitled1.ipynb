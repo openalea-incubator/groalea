{
 "cells": [
  {
   "cell_type": "code",
   "execution_count": 1,
   "metadata": {},
   "outputs": [],
   "source": [
    "from openalea import groalea\n",
    "from openalea.groalea.graphioCopyTest import xmlFile2graph, graph2xml, xmlObject2graph"
   ]
  },
  {
   "cell_type": "code",
   "execution_count": null,
   "metadata": {},
   "outputs": [],
   "source": [
    "#file_abs = \"/home/groimp/simple_tree_newType_newName.xeg\"\n",
    "file_abs = \"/home/groimp/3_metamer_I.xeg\"\n",
    "g, s = xmlFile2graph(file_abs)\n",
    "from pprint import pprint\n",
    "pprint (vars(g))"
   ]
  },
  {
   "cell_type": "code",
   "execution_count": null,
   "metadata": {},
   "outputs": [],
   "source": [
    "from copy import deepcopy\n",
    "newg = deepcopy(g)"
   ]
  }
 ],
 "metadata": {
  "kernelspec": {
   "display_name": "IPython (Python 2)",
   "language": "python",
   "name": "python2"
  },
  "language_info": {
   "codemirror_mode": {
    "name": "ipython",
    "version": 2
   },
   "file_extension": ".py",
   "mimetype": "text/x-python",
   "name": "python",
   "nbconvert_exporter": "python",
   "pygments_lexer": "ipython2",
   "version": "2.7.14"
  }
 },
 "nbformat": 4,
 "nbformat_minor": 1
}
