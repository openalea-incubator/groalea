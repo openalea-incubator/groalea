{
 "metadata": {
  "name": ""
 },
 "nbformat": 3,
 "nbformat_minor": 0,
 "worksheets": [
  {
   "cells": [
    {
     "cell_type": "code",
     "collapsed": false,
     "input": [
      "from openalea.groalea.graphio import xml2graph, graph2xml\n",
      "from openalea.plantgl.all import Viewer"
     ],
     "language": "python",
     "metadata": {},
     "outputs": [],
     "prompt_number": 8
    },
    {
     "cell_type": "code",
     "collapsed": false,
     "input": [
      "%gui qt"
     ],
     "language": "python",
     "metadata": {},
     "outputs": [],
     "prompt_number": 9
    },
    {
     "cell_type": "code",
     "collapsed": false,
     "input": [
      "xeg = '''\n",
      "<graph>\n",
      "  <type name=\"A\">\n",
      "    <extends name=\"Sphere\"/>\n",
      "  </type>\n",
      "\n",
      "  <node id=\"2\" type=\"A\"/>\n",
      "  <node id=\"3\" type=\"Cylinder\"/>\n",
      "  <edge id=\"2\" src_id=\"2\" dest_id=\"3\" type=\"successor\"/>\n",
      "  <root root_id=\"1\"/>\n",
      "  <edge id=\"1\" src_id=\"1\" dest_id=\"2\" type=\"successor\"/>\n",
      "\n",
      "</graph>\n",
      "'''"
     ],
     "language": "python",
     "metadata": {},
     "outputs": [],
     "prompt_number": 10
    },
    {
     "cell_type": "code",
     "collapsed": false,
     "input": [
      "g, scene = xml2graph(xeg)\n",
      "Viewer.display(scene)"
     ],
     "language": "python",
     "metadata": {},
     "outputs": [
      {
       "output_type": "stream",
       "stream": "stdout",
       "text": [
        "pass graph(self, elements) function\n",
        "graph.root <class 'openalea.groalea.topology.RootedGraph'>\n",
        "<openalea.groalea.topology.RootedGraph object at 0x7f75cea3e890>\n"
       ]
      }
     ],
     "prompt_number": 12
    },
    {
     "cell_type": "code",
     "collapsed": false,
     "input": [
      "from pprint import pprint\n",
      "pprint (vars(g))"
     ],
     "language": "python",
     "metadata": {},
     "outputs": [
      {
       "output_type": "stream",
       "stream": "stdout",
       "text": [
        "{'_edge_property': {'edge_type': {1: '<', 2: '<'}},\n",
        " '_edges': {1: (1, 2), 2: (2, 3)},\n",
        " '_eid_generator': <openalea.core.graph.id_generator.IdGenerator object at 0x7f75cea3e910>,\n",
        " '_root': 1,\n",
        " '_types': {'A': ['Sphere']},\n",
        " '_vertex_property': {'color': {},\n",
        "                      'final_geometry': {2: <openalea.plantgl.scenegraph._pglsg.Shape object at 0x7f75c4026578>,\n",
        "                                         3: <openalea.plantgl.scenegraph._pglsg.Shape object at 0x7f75c40265d0>},\n",
        "                      'geometry': {2: <openalea.plantgl.scenegraph._pglsg.Sphere object at 0x7f75c40262b8>,\n",
        "                                   3: <openalea.plantgl.scenegraph._pglsg.Cylinder object at 0x7f75c40263c0>},\n",
        "                      'name': {2: '2', 3: '3'},\n",
        "                      'parameters': {2: {}, 3: {}},\n",
        "                      'transform': {3: Matrix4( 1, 0, 0, 0 ,\n",
        "         0, 1, 0, 0 ,\n",
        "         0, 0, 1, 1 ,\n",
        "         0, 0, 0, 1 )},\n",
        "                      'turtle_state': {},\n",
        "                      'type': {2: 'A', 3: 'Cylinder'}},\n",
        " '_vertices': {1: (set([]), set([1])),\n",
        "               2: (set([1]), set([2])),\n",
        "               3: (set([2]), set([]))},\n",
        " '_vid_generator': <openalea.core.graph.id_generator.IdGenerator object at 0x7f75cea3e8d0>}\n"
       ]
      }
     ],
     "prompt_number": 13
    },
    {
     "cell_type": "code",
     "collapsed": false,
     "input": [
      "fn = graph2xml(g)"
     ],
     "language": "python",
     "metadata": {},
     "outputs": [],
     "prompt_number": 14
    },
    {
     "cell_type": "code",
     "collapsed": false,
     "input": [
      "print fn"
     ],
     "language": "python",
     "metadata": {},
     "outputs": [
      {
       "output_type": "stream",
       "stream": "stdout",
       "text": [
        "<graph>\n",
        "\t<root root_id=\"1\">\n",
        "\t</root>\n",
        "\t<type name=\"A\">\n",
        "\t<extends name=\"Sphere\">\n",
        "\t</extends>\n",
        "\t</type>\n",
        "\t<node id=\"2\" name=\"2\" type=\"A\">\n",
        "\t</node>\n",
        "\t<node id=\"3\" name=\"3\" type=\"Cylinder\">\n",
        "\t</node>\n",
        "\t<edge dest_id=\"2\" id=\"1\" src_id=\"1\" type=\"successor\">\n",
        "\t</edge>\n",
        "\t<edge dest_id=\"3\" id=\"2\" src_id=\"2\" type=\"successor\">\n",
        "\t</edge>\n",
        "\t</graph>\n",
        "\n"
       ]
      }
     ],
     "prompt_number": 15
    },
    {
     "cell_type": "code",
     "collapsed": false,
     "input": [],
     "language": "python",
     "metadata": {},
     "outputs": []
    }
   ],
   "metadata": {}
  }
 ]
}