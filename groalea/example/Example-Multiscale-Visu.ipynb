{
 "metadata": {
  "name": ""
 },
 "nbformat": 3,
 "nbformat_minor": 0,
 "worksheets": [
  {
   "cells": [
    {
     "cell_type": "code",
     "collapsed": false,
     "input": [
      "from openalea.groalea.client import connexion, simulation\n",
      "from openalea.groalea.graphio import xml2graph, graph2xml\n",
      "\n",
      "from openalea.plantgl.all import Viewer"
     ],
     "language": "python",
     "metadata": {},
     "outputs": [],
     "prompt_number": 1
    },
    {
     "cell_type": "code",
     "collapsed": false,
     "input": [
      "%gui qt"
     ],
     "language": "python",
     "metadata": {},
     "outputs": [],
     "prompt_number": 2
    },
    {
     "cell_type": "code",
     "collapsed": false,
     "input": [
      "code ='''\n",
      "module A extends Sphere(0.1)\n",
      "{\n",
      " {setShader(GREEN);}\n",
      "}\n",
      " \n",
      "public void run ()\n",
      "[\n",
      "Axiom ==> L(1)A;\n",
      "A ==> F0 [RU(30)RH(30) A] RU(-30)RH(30) A;\n",
      "]\n",
      "'''\n"
     ],
     "language": "python",
     "metadata": {},
     "outputs": [],
     "prompt_number": 3
    },
    {
     "cell_type": "code",
     "collapsed": false,
     "input": [
      "graph = '''\n",
      "<graph>\n",
      "\n",
      "\n",
      "  <node id=\"2\" type=\"Axiom\"/>\n",
      "\n",
      "  <root root_id=\"1\"/>\n",
      "  <edge id=\"1\" src_id=\"1\" dest_id=\"2\" type=\"successor\"/>\n",
      "\n",
      "</graph>\n",
      "'''"
     ],
     "language": "python",
     "metadata": {},
     "outputs": [],
     "prompt_number": 4
    },
    {
     "cell_type": "code",
     "collapsed": false,
     "input": [
      "# run a simulation\n",
      "conn = connexion('localhost', '58070')\n"
     ],
     "language": "python",
     "metadata": {},
     "outputs": [],
     "prompt_number": 5
    },
    {
     "cell_type": "code",
     "collapsed": false,
     "input": [
      "graph = simulation(code, graph, 'run', conn)"
     ],
     "language": "python",
     "metadata": {},
     "outputs": [],
     "prompt_number": 6
    },
    {
     "cell_type": "code",
     "collapsed": false,
     "input": [
      "print graph"
     ],
     "language": "python",
     "metadata": {},
     "outputs": [
      {
       "output_type": "stream",
       "stream": "stdout",
       "text": [
        "<graph>\n",
        "  <root root_id=\"1\"/>\n",
        "  <node id=\"3\" name=\"\" type=\"L\">\n",
        "    <property name=\"length\" value=\"1.0\"/>\n",
        "  </node>\n",
        "  <edge id=\"2\" src_id=\"1\" dest_id=\"3\" type=\"successor\"/>\n",
        "  <type name=\"A\">\n",
        "    <extends name=\"Sphere\"/>\n",
        "  </type>\n",
        "  <node id=\"4\" name=\"\" type=\"A\">\n",
        "    <property name=\"radius\" value=\"0.1\"/>\n",
        "    <property name=\"color\">\n",
        "      <rgb>0.0 1.0 0.0</rgb>\n",
        "    </property>\n",
        "  </node>\n",
        "  <edge id=\"3\" src_id=\"3\" dest_id=\"4\" type=\"successor\"/>\n",
        "</graph>\n"
       ]
      }
     ],
     "prompt_number": 7
    },
    {
     "cell_type": "code",
     "collapsed": false,
     "input": [
      "g, scene = xml2graph(graph)\n",
      "Viewer.display(scene)"
     ],
     "language": "python",
     "metadata": {},
     "outputs": [
      {
       "output_type": "stream",
       "stream": "stdout",
       "text": [
        "v 1\n",
        "parent(v) 1\n",
        "v, lt.set_locTm, lt.locTm, lt.set_tm_val=  1 False 0 0\n",
        "lt.tropism -20000000000.0\n",
        "v, gt.set_locTm, gt.locTm, gt.set_tm_val=  1 False 0 0\n",
        "gt.tropism 0\n",
        "v 3\n",
        "parent(v) 1\n",
        "v, lt.set_locTm, lt.locTm, lt.set_tm_val=  3 False 0 0\n",
        "lt.tropism -20000000000.0\n",
        "v, gt.set_locTm, gt.locTm, gt.set_tm_val=  3 False 0 0\n",
        "gt.tropism 0\n",
        "v 4\n",
        "parent(v) 3\n",
        "v, lt.set_locTm, lt.locTm, lt.set_tm_val=  4 False 0 0\n",
        "lt.tropism -20000000000.0\n",
        "v, gt.set_locTm, gt.locTm, gt.set_tm_val=  4 False 0 0\n",
        "gt.tropism 0\n"
       ]
      }
     ],
     "prompt_number": 8
    },
    {
     "cell_type": "code",
     "collapsed": false,
     "input": [
      "graph = simulation(code, graph, 'run', conn)\n",
      "print graph"
     ],
     "language": "python",
     "metadata": {},
     "outputs": [
      {
       "output_type": "stream",
       "stream": "stdout",
       "text": [
        "<graph>\n",
        "  <root root_id=\"1\"/>\n",
        "  <type name=\"A\">\n",
        "    <extends name=\"Sphere\"/>\n",
        "  </type>\n",
        "  <node id=\"5\" name=\"\" type=\"A\">\n",
        "    <property name=\"radius\" value=\"0.1\"/>\n",
        "    <property name=\"color\">\n",
        "      <rgb>0.0 1.0 0.0</rgb>\n",
        "    </property>\n",
        "  </node>\n",
        "  <edge id=\"4\" src_id=\"10\" dest_id=\"5\" type=\"successor\"/>\n",
        "  <node id=\"6\" name=\"\" type=\"RU\">\n",
        "    <property name=\"angle\" value=\"-30.0\"/>\n",
        "  </node>\n",
        "  <edge id=\"5\" src_id=\"7\" dest_id=\"6\" type=\"successor\"/>\n",
        "  <node id=\"7\" name=\"\" type=\"F0\">\n",
        "    <property name=\"color\">\n",
        "      <rgb>1.0 1.0 0.33333334</rgb>\n",
        "    </property>\n",
        "  </node>\n",
        "  <edge id=\"6\" src_id=\"3\" dest_id=\"7\" type=\"successor\"/>\n",
        "  <node id=\"8\" name=\"\" type=\"RU\">\n",
        "    <property name=\"angle\" value=\"30.0\"/>\n",
        "  </node>\n",
        "  <edge id=\"7\" src_id=\"7\" dest_id=\"8\" type=\"branch\"/>\n",
        "  <node id=\"9\" name=\"\" type=\"A\">\n",
        "    <property name=\"radius\" value=\"0.1\"/>\n",
        "    <property name=\"color\">\n",
        "      <rgb>0.0 1.0 0.0</rgb>\n",
        "    </property>\n",
        "  </node>\n",
        "  <edge id=\"8\" src_id=\"11\" dest_id=\"9\" type=\"successor\"/>\n",
        "  <node id=\"10\" name=\"\" type=\"RH\">\n",
        "    <property name=\"angle\" value=\"30.0\"/>\n",
        "  </node>\n",
        "  <edge id=\"9\" src_id=\"6\" dest_id=\"10\" type=\"successor\"/>\n",
        "  <node id=\"11\" name=\"\" type=\"RH\">\n",
        "    <property name=\"angle\" value=\"30.0\"/>\n",
        "  </node>\n",
        "  <edge id=\"10\" src_id=\"8\" dest_id=\"11\" type=\"successor\"/>\n",
        "  <node id=\"3\" name=\"\" type=\"L\">\n",
        "    <property name=\"length\" value=\"1.0\"/>\n",
        "  </node>\n",
        "  <edge id=\"2\" src_id=\"1\" dest_id=\"3\" type=\"successor\"/>\n",
        "</graph>\n"
       ]
      }
     ],
     "prompt_number": 9
    },
    {
     "cell_type": "code",
     "collapsed": false,
     "input": [
      "g, scene = xml2graph(graph)\n",
      "Viewer.display(scene)"
     ],
     "language": "python",
     "metadata": {},
     "outputs": [
      {
       "output_type": "stream",
       "stream": "stdout",
       "text": [
        "pass graph(self, elements) function\n"
       ]
      }
     ],
     "prompt_number": 10
    },
    {
     "cell_type": "code",
     "collapsed": false,
     "input": [
      "graph = simulation(code, graph, 'run', conn)\n",
      "print graph"
     ],
     "language": "python",
     "metadata": {},
     "outputs": [
      {
       "output_type": "stream",
       "stream": "stdout",
       "text": [
        "<graph>\n",
        "  <root root_id=\"1\"/>\n",
        "  <node id=\"26\" name=\"\" type=\"RH\">\n",
        "    <property name=\"angle\" value=\"30.0\"/>\n",
        "  </node>\n",
        "  <edge id=\"25\" src_id=\"42\" dest_id=\"26\" type=\"successor\"/>\n",
        "  <node id=\"24\" name=\"\" type=\"RH\">\n",
        "    <property name=\"angle\" value=\"30.0\"/>\n",
        "  </node>\n",
        "  <edge id=\"23\" src_id=\"13\" dest_id=\"24\" type=\"successor\"/>\n",
        "  <node id=\"27\" name=\"\" type=\"RH\">\n",
        "    <property name=\"angle\" value=\"30.0\"/>\n",
        "  </node>\n",
        "  <edge id=\"26\" src_id=\"35\" dest_id=\"27\" type=\"successor\"/>\n",
        "  <type name=\"A\">\n",
        "    <extends name=\"Sphere\"/>\n",
        "  </type>\n",
        "  <node id=\"28\" name=\"\" type=\"A\">\n",
        "    <property name=\"radius\" value=\"0.1\"/>\n",
        "    <property name=\"color\">\n",
        "      <rgb>0.0 1.0 0.0</rgb>\n",
        "    </property>\n",
        "  </node>\n",
        "  <edge id=\"27\" src_id=\"51\" dest_id=\"28\" type=\"successor\"/>\n",
        "  <node id=\"6\" name=\"\" type=\"RU\">\n",
        "    <property name=\"angle\" value=\"-30.0\"/>\n",
        "  </node>\n",
        "  <edge id=\"5\" src_id=\"7\" dest_id=\"6\" type=\"successor\"/>\n",
        "  <node id=\"22\" name=\"\" type=\"RU\">\n",
        "    <property name=\"angle\" value=\"30.0\"/>\n",
        "  </node>\n",
        "  <edge id=\"21\" src_id=\"16\" dest_id=\"22\" type=\"branch\"/>\n",
        "  <node id=\"12\" name=\"\" type=\"F0\">\n",
        "    <property name=\"color\">\n",
        "      <rgb>1.0 1.0 0.33333334</rgb>\n",
        "    </property>\n",
        "  </node>\n",
        "  <edge id=\"11\" src_id=\"10\" dest_id=\"12\" type=\"successor\"/>\n",
        "  <node id=\"29\" name=\"\" type=\"A\">\n",
        "    <property name=\"radius\" value=\"0.1\"/>\n",
        "    <property name=\"color\">\n",
        "      <rgb>0.0 1.0 0.0</rgb>\n",
        "    </property>\n",
        "  </node>\n",
        "  <edge id=\"28\" src_id=\"26\" dest_id=\"29\" type=\"successor\"/>\n",
        "  <node id=\"30\" name=\"\" type=\"A\">\n",
        "    <property name=\"radius\" value=\"0.1\"/>\n",
        "    <property name=\"color\">\n",
        "      <rgb>0.0 1.0 0.0</rgb>\n",
        "    </property>\n",
        "  </node>\n",
        "  <edge id=\"29\" src_id=\"27\" dest_id=\"30\" type=\"successor\"/>\n",
        "  <node id=\"14\" name=\"\" type=\"RH\">\n",
        "    <property name=\"angle\" value=\"30.0\"/>\n",
        "  </node>\n",
        "  <edge id=\"13\" src_id=\"22\" dest_id=\"14\" type=\"successor\"/>\n",
        "  <node id=\"31\" name=\"\" type=\"F0\">\n",
        "    <property name=\"color\">\n",
        "      <rgb>1.0 1.0 0.33333334</rgb>\n",
        "    </property>\n",
        "  </node>\n",
        "  <edge id=\"30\" src_id=\"17\" dest_id=\"31\" type=\"successor\"/>\n",
        "  <node id=\"32\" name=\"\" type=\"RU\">\n",
        "    <property name=\"angle\" value=\"30.0\"/>\n",
        "  </node>\n",
        "  <edge id=\"31\" src_id=\"49\" dest_id=\"32\" type=\"branch\"/>\n",
        "  <node id=\"33\" name=\"\" type=\"A\">\n",
        "    <property name=\"radius\" value=\"0.1\"/>\n",
        "    <property name=\"color\">\n",
        "      <rgb>0.0 1.0 0.0</rgb>\n",
        "    </property>\n",
        "  </node>\n",
        "  <edge id=\"32\" src_id=\"39\" dest_id=\"33\" type=\"successor\"/>\n",
        "  <node id=\"8\" name=\"\" type=\"RU\">\n",
        "    <property name=\"angle\" value=\"30.0\"/>\n",
        "  </node>\n",
        "  <edge id=\"7\" src_id=\"7\" dest_id=\"8\" type=\"branch\"/>\n",
        "  <node id=\"34\" name=\"\" type=\"RU\">\n",
        "    <property name=\"angle\" value=\"30.0\"/>\n",
        "  </node>\n",
        "  <edge id=\"33\" src_id=\"31\" dest_id=\"34\" type=\"branch\"/>\n",
        "  <node id=\"35\" name=\"\" type=\"RU\">\n",
        "    <property name=\"angle\" value=\"-30.0\"/>\n",
        "  </node>\n",
        "  <edge id=\"34\" src_id=\"48\" dest_id=\"35\" type=\"successor\"/>\n",
        "  <node id=\"36\" name=\"\" type=\"F0\">\n",
        "    <property name=\"color\">\n",
        "      <rgb>1.0 1.0 0.33333334</rgb>\n",
        "    </property>\n",
        "  </node>\n",
        "  <edge id=\"35\" src_id=\"14\" dest_id=\"36\" type=\"successor\"/>\n",
        "  <node id=\"37\" name=\"\" type=\"A\">\n",
        "    <property name=\"radius\" value=\"0.1\"/>\n",
        "    <property name=\"color\">\n",
        "      <rgb>0.0 1.0 0.0</rgb>\n",
        "    </property>\n",
        "  </node>\n",
        "  <edge id=\"36\" src_id=\"46\" dest_id=\"37\" type=\"successor\"/>\n",
        "  <node id=\"38\" name=\"\" type=\"RH\">\n",
        "    <property name=\"angle\" value=\"30.0\"/>\n",
        "  </node>\n",
        "  <edge id=\"37\" src_id=\"32\" dest_id=\"38\" type=\"successor\"/>\n",
        "  <node id=\"13\" name=\"\" type=\"RU\">\n",
        "    <property name=\"angle\" value=\"30.0\"/>\n",
        "  </node>\n",
        "  <edge id=\"12\" src_id=\"12\" dest_id=\"13\" type=\"branch\"/>\n",
        "  <node id=\"16\" name=\"\" type=\"F0\">\n",
        "    <property name=\"color\">\n",
        "      <rgb>1.0 1.0 0.33333334</rgb>\n",
        "    </property>\n",
        "  </node>\n",
        "  <edge id=\"15\" src_id=\"11\" dest_id=\"16\" type=\"successor\"/>\n",
        "  <node id=\"39\" name=\"\" type=\"RH\">\n",
        "    <property name=\"angle\" value=\"30.0\"/>\n",
        "  </node>\n",
        "  <edge id=\"38\" src_id=\"50\" dest_id=\"39\" type=\"successor\"/>\n",
        "  <node id=\"40\" name=\"\" type=\"RU\">\n",
        "    <property name=\"angle\" value=\"30.0\"/>\n",
        "  </node>\n",
        "  <edge id=\"39\" src_id=\"36\" dest_id=\"40\" type=\"branch\"/>\n",
        "  <node id=\"41\" name=\"\" type=\"RU\">\n",
        "    <property name=\"angle\" value=\"-30.0\"/>\n",
        "  </node>\n",
        "  <edge id=\"40\" src_id=\"31\" dest_id=\"41\" type=\"successor\"/>\n",
        "  <node id=\"7\" name=\"\" type=\"F0\">\n",
        "    <property name=\"color\">\n",
        "      <rgb>1.0 1.0 0.33333334</rgb>\n",
        "    </property>\n",
        "  </node>\n",
        "  <edge id=\"6\" src_id=\"3\" dest_id=\"7\" type=\"successor\"/>\n",
        "  <node id=\"10\" name=\"\" type=\"RH\">\n",
        "    <property name=\"angle\" value=\"30.0\"/>\n",
        "  </node>\n",
        "  <edge id=\"9\" src_id=\"6\" dest_id=\"10\" type=\"successor\"/>\n",
        "  <node id=\"42\" name=\"\" type=\"RU\">\n",
        "    <property name=\"angle\" value=\"-30.0\"/>\n",
        "  </node>\n",
        "  <edge id=\"41\" src_id=\"36\" dest_id=\"42\" type=\"successor\"/>\n",
        "  <node id=\"43\" name=\"\" type=\"A\">\n",
        "    <property name=\"radius\" value=\"0.1\"/>\n",
        "    <property name=\"color\">\n",
        "      <rgb>0.0 1.0 0.0</rgb>\n",
        "    </property>\n",
        "  </node>\n",
        "  <edge id=\"42\" src_id=\"53\" dest_id=\"43\" type=\"successor\"/>\n",
        "  <node id=\"44\" name=\"\" type=\"RH\">\n",
        "    <property name=\"angle\" value=\"30.0\"/>\n",
        "  </node>\n",
        "  <edge id=\"43\" src_id=\"40\" dest_id=\"44\" type=\"successor\"/>\n",
        "  <node id=\"45\" name=\"\" type=\"A\">\n",
        "    <property name=\"radius\" value=\"0.1\"/>\n",
        "    <property name=\"color\">\n",
        "      <rgb>0.0 1.0 0.0</rgb>\n",
        "    </property>\n",
        "  </node>\n",
        "  <edge id=\"44\" src_id=\"44\" dest_id=\"45\" type=\"successor\"/>\n",
        "  <node id=\"46\" name=\"\" type=\"RH\">\n",
        "    <property name=\"angle\" value=\"30.0\"/>\n",
        "  </node>\n",
        "  <edge id=\"45\" src_id=\"34\" dest_id=\"46\" type=\"successor\"/>\n",
        "  <node id=\"47\" name=\"\" type=\"A\">\n",
        "    <property name=\"radius\" value=\"0.1\"/>\n",
        "    <property name=\"color\">\n",
        "      <rgb>0.0 1.0 0.0</rgb>\n",
        "    </property>\n",
        "  </node>\n",
        "  <edge id=\"46\" src_id=\"38\" dest_id=\"47\" type=\"successor\"/>\n",
        "  <node id=\"17\" name=\"\" type=\"RH\">\n",
        "    <property name=\"angle\" value=\"30.0\"/>\n",
        "  </node>\n",
        "  <edge id=\"16\" src_id=\"15\" dest_id=\"17\" type=\"successor\"/>\n",
        "  <node id=\"48\" name=\"\" type=\"F0\">\n",
        "    <property name=\"color\">\n",
        "      <rgb>1.0 1.0 0.33333334</rgb>\n",
        "    </property>\n",
        "  </node>\n",
        "  <edge id=\"47\" src_id=\"23\" dest_id=\"48\" type=\"successor\"/>\n",
        "  <node id=\"49\" name=\"\" type=\"F0\">\n",
        "    <property name=\"color\">\n",
        "      <rgb>1.0 1.0 0.33333334</rgb>\n",
        "    </property>\n",
        "  </node>\n",
        "  <edge id=\"48\" src_id=\"24\" dest_id=\"49\" type=\"successor\"/>\n",
        "  <node id=\"50\" name=\"\" type=\"RU\">\n",
        "    <property name=\"angle\" value=\"30.0\"/>\n",
        "  </node>\n",
        "  <edge id=\"49\" src_id=\"48\" dest_id=\"50\" type=\"branch\"/>\n",
        "  <node id=\"51\" name=\"\" type=\"RH\">\n",
        "    <property name=\"angle\" value=\"30.0\"/>\n",
        "  </node>\n",
        "  <edge id=\"50\" src_id=\"52\" dest_id=\"51\" type=\"successor\"/>\n",
        "  <node id=\"3\" name=\"\" type=\"L\">\n",
        "    <property name=\"length\" value=\"1.0\"/>\n",
        "  </node>\n",
        "  <edge id=\"2\" src_id=\"1\" dest_id=\"3\" type=\"successor\"/>\n",
        "  <node id=\"52\" name=\"\" type=\"RU\">\n",
        "    <property name=\"angle\" value=\"-30.0\"/>\n",
        "  </node>\n",
        "  <edge id=\"51\" src_id=\"49\" dest_id=\"52\" type=\"successor\"/>\n",
        "  <node id=\"15\" name=\"\" type=\"RU\">\n",
        "    <property name=\"angle\" value=\"-30.0\"/>\n",
        "  </node>\n",
        "  <edge id=\"14\" src_id=\"12\" dest_id=\"15\" type=\"successor\"/>\n",
        "  <node id=\"23\" name=\"\" type=\"RH\">\n",
        "    <property name=\"angle\" value=\"30.0\"/>\n",
        "  </node>\n",
        "  <edge id=\"22\" src_id=\"18\" dest_id=\"23\" type=\"successor\"/>\n",
        "  <node id=\"11\" name=\"\" type=\"RH\">\n",
        "    <property name=\"angle\" value=\"30.0\"/>\n",
        "  </node>\n",
        "  <edge id=\"10\" src_id=\"8\" dest_id=\"11\" type=\"successor\"/>\n",
        "  <node id=\"18\" name=\"\" type=\"RU\">\n",
        "    <property name=\"angle\" value=\"-30.0\"/>\n",
        "  </node>\n",
        "  <edge id=\"17\" src_id=\"16\" dest_id=\"18\" type=\"successor\"/>\n",
        "  <node id=\"53\" name=\"\" type=\"RH\">\n",
        "    <property name=\"angle\" value=\"30.0\"/>\n",
        "  </node>\n",
        "  <edge id=\"52\" src_id=\"41\" dest_id=\"53\" type=\"successor\"/>\n",
        "</graph>\n"
       ]
      }
     ],
     "prompt_number": 13
    },
    {
     "cell_type": "code",
     "collapsed": false,
     "input": [
      "g, scene = xml2graph(graph)\n",
      "Viewer.display(scene)"
     ],
     "language": "python",
     "metadata": {},
     "outputs": [
      {
       "output_type": "stream",
       "stream": "stdout",
       "text": [
        "pass graph(self, elements) function\n"
       ]
      }
     ],
     "prompt_number": 14
    },
    {
     "cell_type": "code",
     "collapsed": false,
     "input": [
      "Viewer.display"
     ],
     "language": "python",
     "metadata": {},
     "outputs": []
    },
    {
     "cell_type": "code",
     "collapsed": false,
     "input": [
      "graph = '''\n",
      "<graph>\n",
      "\n",
      "\n",
      "  <node id=\"2\" type=\"Axiom\"/>\n",
      "\n",
      "  <root root_id=\"1\"/>\n",
      "  <edge id=\"1\" src_id=\"1\" dest_id=\"2\" type=\"successor\"/>\n",
      "\n",
      "</graph>\n",
      "'''\n",
      "for i in range(10):\n",
      "    graph1 = simulation(code, graph, '4run', conn)\n",
      "    g, scene = xml2graph(graph1)\n",
      "    # print graph\n",
      "    #Viewer.display(scene)"
     ],
     "language": "python",
     "metadata": {},
     "outputs": [
      {
       "output_type": "stream",
       "stream": "stdout",
       "text": [
        "pass graph(self, elements) function\n",
        "pass graph(self, elements) function"
       ]
      },
      {
       "output_type": "stream",
       "stream": "stdout",
       "text": [
        "\n",
        "pass graph(self, elements) function\n",
        "pass graph(self, elements) function"
       ]
      },
      {
       "output_type": "stream",
       "stream": "stdout",
       "text": [
        "\n",
        "pass graph(self, elements) function\n",
        "pass graph(self, elements) function"
       ]
      },
      {
       "output_type": "stream",
       "stream": "stdout",
       "text": [
        "\n",
        "pass graph(self, elements) function"
       ]
      },
      {
       "output_type": "stream",
       "stream": "stdout",
       "text": [
        "\n",
        "pass graph(self, elements) function\n",
        "pass graph(self, elements) function"
       ]
      },
      {
       "output_type": "stream",
       "stream": "stdout",
       "text": [
        "\n",
        "pass graph(self, elements) function\n"
       ]
      }
     ],
     "prompt_number": 8
    },
    {
     "cell_type": "code",
     "collapsed": false,
     "input": [
      "graph = simulation(code, graph, '2run', conn)\n",
      "print graph"
     ],
     "language": "python",
     "metadata": {},
     "outputs": [
      {
       "output_type": "stream",
       "stream": "stdout",
       "text": [
        "<graph>\n",
        "  <root root_id=\"1\"/>\n",
        "  <type name=\"A\">\n",
        "    <extends name=\"Sphere\"/>\n",
        "  </type>\n",
        "  <node id=\"3\" name=\"\" type=\"A\">\n",
        "    <property name=\"radius\" value=\"0.1\"/>\n",
        "    <property name=\"color\">\n",
        "      <rgb>0.0 1.0 0.0</rgb>\n",
        "    </property>\n",
        "  </node>\n",
        "  <edge id=\"2\" src_id=\"5\" dest_id=\"3\" type=\"successor\"/>\n",
        "  <node id=\"4\" name=\"\" type=\"RU\">\n",
        "    <property name=\"angle\" value=\"30.0\"/>\n",
        "  </node>\n",
        "  <edge id=\"3\" src_id=\"7\" dest_id=\"4\" type=\"branch\"/>\n",
        "  <node id=\"5\" name=\"\" type=\"RH\">\n",
        "    <property name=\"angle\" value=\"30.0\"/>\n",
        "  </node>\n",
        "  <edge id=\"4\" src_id=\"4\" dest_id=\"5\" type=\"successor\"/>\n",
        "  <node id=\"6\" name=\"\" type=\"A\">\n",
        "    <property name=\"radius\" value=\"0.1\"/>\n",
        "    <property name=\"color\">\n",
        "      <rgb>0.0 1.0 0.0</rgb>\n",
        "    </property>\n",
        "  </node>\n",
        "  <edge id=\"5\" src_id=\"9\" dest_id=\"6\" type=\"successor\"/>\n",
        "  <node id=\"7\" name=\"\" type=\"F\">\n",
        "    <property name=\"length\" value=\"1.0\"/>\n",
        "    <property name=\"diameter\" value=\"-1.0\"/>\n",
        "    <property name=\"color\" value=\"-1\"/>\n",
        "    <property name=\"color\">\n",
        "      <rgb>1.0 1.0 0.33333334</rgb>\n",
        "    </property>\n",
        "  </node>\n",
        "  <edge id=\"6\" src_id=\"1\" dest_id=\"7\" type=\"successor\"/>\n",
        "  <node id=\"8\" name=\"\" type=\"RU\">\n",
        "    <property name=\"angle\" value=\"-30.0\"/>\n",
        "  </node>\n",
        "  <edge id=\"7\" src_id=\"7\" dest_id=\"8\" type=\"successor\"/>\n",
        "  <node id=\"9\" name=\"\" type=\"RH\">\n",
        "    <property name=\"angle\" value=\"30.0\"/>\n",
        "  </node>\n",
        "  <edge id=\"8\" src_id=\"8\" dest_id=\"9\" type=\"successor\"/>\n",
        "</graph>\n"
       ]
      }
     ],
     "prompt_number": 9
    },
    {
     "cell_type": "code",
     "collapsed": false,
     "input": [],
     "language": "python",
     "metadata": {},
     "outputs": []
    }
   ],
   "metadata": {}
  }
 ]
}