{
 "metadata": {
  "name": ""
 },
 "nbformat": 3,
 "nbformat_minor": 0,
 "worksheets": [
  {
   "cells": [
    {
     "cell_type": "code",
     "collapsed": false,
     "input": [
      "from openalea.groalea.client import connexion, simulation\n",
      "from openalea.groalea.graphio import xml2graph, graph2xml\n",
      "from openalea.groalea.convert_mtg import mtg2graph\n",
      "\n",
      "from openalea.plantgl.all import Viewer"
     ],
     "language": "python",
     "metadata": {},
     "outputs": [],
     "prompt_number": 1
    },
    {
     "cell_type": "code",
     "collapsed": false,
     "input": [
      "%gui qt"
     ],
     "language": "python",
     "metadata": {},
     "outputs": [],
     "prompt_number": 2
    },
    {
     "cell_type": "code",
     "collapsed": false,
     "input": [
      "code = '''\n",
      "public void run ()\n",
      "[\n",
      "\tAxiom ==> NURBSCurve(new Arc());\n",
      "]\n",
      "'''"
     ],
     "language": "python",
     "metadata": {},
     "outputs": [],
     "prompt_number": 3
    },
    {
     "cell_type": "code",
     "collapsed": false,
     "input": [
      "graph = '''\n",
      "<graph>\n",
      "  <node id=\"2\" type=\"Axiom\"/>\n",
      "  <root root_id=\"1\"/>\n",
      "  <edge id=\"1\" src_id=\"1\" dest_id=\"2\" type=\"successor\"/>\n",
      "</graph>\n",
      "'''"
     ],
     "language": "python",
     "metadata": {},
     "outputs": [],
     "prompt_number": 4
    },
    {
     "cell_type": "code",
     "collapsed": false,
     "input": [
      "# run a simulation\n",
      "conn = connexion('localhost', '58070')\n"
     ],
     "language": "python",
     "metadata": {},
     "outputs": [],
     "prompt_number": 5
    },
    {
     "cell_type": "code",
     "collapsed": false,
     "input": [
      "graph = simulation(code, graph, 'run', conn)"
     ],
     "language": "python",
     "metadata": {},
     "outputs": [],
     "prompt_number": 6
    },
    {
     "cell_type": "code",
     "collapsed": false,
     "input": [
      "print graph"
     ],
     "language": "python",
     "metadata": {},
     "outputs": [
      {
       "output_type": "stream",
       "stream": "stdout",
       "text": [
        "<graph>\n",
        "  <root root_id=\"1\"/>\n",
        "  <node id=\"3\" name=\"\" type=\"NURBSCurve\">\n",
        "    <property name=\"ctrlpoints\" value=\"1.0,0.0,1.00.8660254,0.50000006,0.86602540.49999997,0.86602545,1.0-2.5809568E-8,0.99999994,0.8660254-0.50000006,0.8660254,1.0-0.8660254,0.49999997,0.8660254-1.0-8.742278E-81.0\"/>\n",
        "    <property name=\"dimension\" value=\"3\"/>\n",
        "  </node>\n",
        "  <edge id=\"2\" src_id=\"1\" dest_id=\"3\" type=\"successor\"/>\n",
        "</graph>\n"
       ]
      }
     ],
     "prompt_number": 7
    },
    {
     "cell_type": "code",
     "collapsed": false,
     "input": [
      "g, scene = xml2graph(graph)\n",
      "Viewer.display(scene)"
     ],
     "language": "python",
     "metadata": {},
     "outputs": [
      {
       "ename": "Exception",
       "evalue": "Unknow object type NURBSCurve. Known objects are ['Axiom'].",
       "output_type": "pyerr",
       "traceback": [
        "\u001b[0;31m---------------------------------------------------------------------------\u001b[0m\n\u001b[0;31mException\u001b[0m                                 Traceback (most recent call last)",
        "\u001b[0;32m<ipython-input-8-b698b90919d6>\u001b[0m in \u001b[0;36m<module>\u001b[0;34m()\u001b[0m\n\u001b[0;32m----> 1\u001b[0;31m \u001b[0mg\u001b[0m\u001b[0;34m,\u001b[0m \u001b[0mscene\u001b[0m \u001b[0;34m=\u001b[0m \u001b[0mxml2graph\u001b[0m\u001b[0;34m(\u001b[0m\u001b[0mgraph\u001b[0m\u001b[0;34m)\u001b[0m\u001b[0;34m\u001b[0m\u001b[0m\n\u001b[0m\u001b[1;32m      2\u001b[0m \u001b[0mViewer\u001b[0m\u001b[0;34m.\u001b[0m\u001b[0mdisplay\u001b[0m\u001b[0;34m(\u001b[0m\u001b[0mscene\u001b[0m\u001b[0;34m)\u001b[0m\u001b[0;34m\u001b[0m\u001b[0m\n",
        "\u001b[0;32m/home/long/python_ws/groalea/groalea/graphio.pyc\u001b[0m in \u001b[0;36mxml2graph\u001b[0;34m(xml_graph)\u001b[0m\n\u001b[1;32m    867\u001b[0m     \u001b[0mf\u001b[0m \u001b[0;34m=\u001b[0m \u001b[0mStringIO\u001b[0m\u001b[0;34m(\u001b[0m\u001b[0mxml_graph\u001b[0m\u001b[0;34m)\u001b[0m\u001b[0;34m\u001b[0m\u001b[0m\n\u001b[1;32m    868\u001b[0m     \u001b[0mparser\u001b[0m \u001b[0;34m=\u001b[0m \u001b[0mParser\u001b[0m\u001b[0;34m(\u001b[0m\u001b[0;34m)\u001b[0m\u001b[0;34m\u001b[0m\u001b[0m\n\u001b[0;32m--> 869\u001b[0;31m     \u001b[0mg\u001b[0m\u001b[0;34m,\u001b[0m \u001b[0mscene\u001b[0m \u001b[0;34m=\u001b[0m \u001b[0mparser\u001b[0m\u001b[0;34m.\u001b[0m\u001b[0mparse\u001b[0m\u001b[0;34m(\u001b[0m\u001b[0mf\u001b[0m\u001b[0;34m)\u001b[0m\u001b[0;34m\u001b[0m\u001b[0m\n\u001b[0m\u001b[1;32m    870\u001b[0m     \u001b[0mf\u001b[0m\u001b[0;34m.\u001b[0m\u001b[0mclose\u001b[0m\u001b[0;34m(\u001b[0m\u001b[0;34m)\u001b[0m\u001b[0;34m\u001b[0m\u001b[0m\n\u001b[1;32m    871\u001b[0m     \u001b[0;32mreturn\u001b[0m \u001b[0mg\u001b[0m\u001b[0;34m,\u001b[0m \u001b[0mscene\u001b[0m\u001b[0;34m\u001b[0m\u001b[0m\n",
        "\u001b[0;32m/home/long/python_ws/groalea/groalea/graphio.pyc\u001b[0m in \u001b[0;36mparse\u001b[0;34m(self, fn)\u001b[0m\n\u001b[1;32m     74\u001b[0m         \u001b[0;31m# print \"#####pass to dispatch(root)\"\u001b[0m\u001b[0;34m\u001b[0m\u001b[0;34m\u001b[0m\u001b[0m\n\u001b[1;32m     75\u001b[0m \u001b[0;34m\u001b[0m\u001b[0m\n\u001b[0;32m---> 76\u001b[0;31m         \u001b[0mself\u001b[0m\u001b[0;34m.\u001b[0m\u001b[0mdispatch\u001b[0m\u001b[0;34m(\u001b[0m\u001b[0mroot\u001b[0m\u001b[0;34m)\u001b[0m\u001b[0;34m\u001b[0m\u001b[0m\n\u001b[0m\u001b[1;32m     77\u001b[0m         \u001b[0mself\u001b[0m\u001b[0;34m.\u001b[0m\u001b[0mscenegraph\u001b[0m\u001b[0;34m(\u001b[0m\u001b[0;34m)\u001b[0m\u001b[0;34m\u001b[0m\u001b[0m\n\u001b[1;32m     78\u001b[0m \u001b[0;34m\u001b[0m\u001b[0m\n",
        "\u001b[0;32m/home/long/python_ws/groalea/groalea/graphio.pyc\u001b[0m in \u001b[0;36mdispatch\u001b[0;34m(self, elt)\u001b[0m\n\u001b[1;32m     93\u001b[0m         \u001b[0;31m# return self.__getattribute__(elt.tag)(elt.getchildren(), **elt.attrib)\u001b[0m\u001b[0;34m\u001b[0m\u001b[0;34m\u001b[0m\u001b[0m\n\u001b[1;32m     94\u001b[0m         \u001b[0;31m#try:\u001b[0m\u001b[0;34m\u001b[0m\u001b[0;34m\u001b[0m\u001b[0m\n\u001b[0;32m---> 95\u001b[0;31m         \u001b[0;32mreturn\u001b[0m \u001b[0mself\u001b[0m\u001b[0;34m.\u001b[0m\u001b[0m__getattribute__\u001b[0m\u001b[0;34m(\u001b[0m\u001b[0melt\u001b[0m\u001b[0;34m.\u001b[0m\u001b[0mtag\u001b[0m\u001b[0;34m)\u001b[0m\u001b[0;34m(\u001b[0m\u001b[0mlist\u001b[0m\u001b[0;34m(\u001b[0m\u001b[0melt\u001b[0m\u001b[0;34m)\u001b[0m\u001b[0;34m,\u001b[0m \u001b[0;34m**\u001b[0m\u001b[0melt\u001b[0m\u001b[0;34m.\u001b[0m\u001b[0mattrib\u001b[0m\u001b[0;34m)\u001b[0m\u001b[0;34m\u001b[0m\u001b[0m\n\u001b[0m\u001b[1;32m     96\u001b[0m \u001b[0;31m#        except Exception, e:\u001b[0m\u001b[0;34m\u001b[0m\u001b[0;34m\u001b[0m\u001b[0m\n\u001b[1;32m     97\u001b[0m \u001b[0;31m#            print e\u001b[0m\u001b[0;34m\u001b[0m\u001b[0;34m\u001b[0m\u001b[0m\n",
        "\u001b[0;32m/home/long/python_ws/groalea/groalea/graphio.pyc\u001b[0m in \u001b[0;36mgraph\u001b[0;34m(self, elements)\u001b[0m\n\u001b[1;32m    128\u001b[0m         \u001b[0;31m# Process / Parse all the xml nodes contains directly inside the <graph> node.\u001b[0m\u001b[0;34m\u001b[0m\u001b[0;34m\u001b[0m\u001b[0m\n\u001b[1;32m    129\u001b[0m         \u001b[0;32mfor\u001b[0m \u001b[0melt\u001b[0m \u001b[0;32min\u001b[0m \u001b[0melements\u001b[0m\u001b[0;34m:\u001b[0m\u001b[0;34m\u001b[0m\u001b[0m\n\u001b[0;32m--> 130\u001b[0;31m             \u001b[0mself\u001b[0m\u001b[0;34m.\u001b[0m\u001b[0mdispatch\u001b[0m\u001b[0;34m(\u001b[0m\u001b[0melt\u001b[0m\u001b[0;34m)\u001b[0m\u001b[0;34m\u001b[0m\u001b[0m\n\u001b[0m\u001b[1;32m    131\u001b[0m \u001b[0;34m\u001b[0m\u001b[0m\n\u001b[1;32m    132\u001b[0m         \u001b[0;31m# add the edges to the graph, when all the nodes have been added.\u001b[0m\u001b[0;34m\u001b[0m\u001b[0;34m\u001b[0m\u001b[0m\n",
        "\u001b[0;32m/home/long/python_ws/groalea/groalea/graphio.pyc\u001b[0m in \u001b[0;36mdispatch\u001b[0;34m(self, elt)\u001b[0m\n\u001b[1;32m     93\u001b[0m         \u001b[0;31m# return self.__getattribute__(elt.tag)(elt.getchildren(), **elt.attrib)\u001b[0m\u001b[0;34m\u001b[0m\u001b[0;34m\u001b[0m\u001b[0m\n\u001b[1;32m     94\u001b[0m         \u001b[0;31m#try:\u001b[0m\u001b[0;34m\u001b[0m\u001b[0;34m\u001b[0m\u001b[0m\n\u001b[0;32m---> 95\u001b[0;31m         \u001b[0;32mreturn\u001b[0m \u001b[0mself\u001b[0m\u001b[0;34m.\u001b[0m\u001b[0m__getattribute__\u001b[0m\u001b[0;34m(\u001b[0m\u001b[0melt\u001b[0m\u001b[0;34m.\u001b[0m\u001b[0mtag\u001b[0m\u001b[0;34m)\u001b[0m\u001b[0;34m(\u001b[0m\u001b[0mlist\u001b[0m\u001b[0;34m(\u001b[0m\u001b[0melt\u001b[0m\u001b[0;34m)\u001b[0m\u001b[0;34m,\u001b[0m \u001b[0;34m**\u001b[0m\u001b[0melt\u001b[0m\u001b[0;34m.\u001b[0m\u001b[0mattrib\u001b[0m\u001b[0;34m)\u001b[0m\u001b[0;34m\u001b[0m\u001b[0m\n\u001b[0m\u001b[1;32m     96\u001b[0m \u001b[0;31m#        except Exception, e:\u001b[0m\u001b[0;34m\u001b[0m\u001b[0;34m\u001b[0m\u001b[0m\n\u001b[1;32m     97\u001b[0m \u001b[0;31m#            print e\u001b[0m\u001b[0;34m\u001b[0m\u001b[0;34m\u001b[0m\u001b[0m\n",
        "\u001b[0;32m/home/long/python_ws/groalea/groalea/graphio.pyc\u001b[0m in \u001b[0;36mnode\u001b[0;34m(self, properties, id, type, name)\u001b[0m\n\u001b[1;32m    231\u001b[0m             \u001b[0mshape\u001b[0m\u001b[0;34m,\u001b[0m \u001b[0mtransfo\u001b[0m \u001b[0;34m=\u001b[0m \u001b[0mNone\u001b[0m\u001b[0;34m,\u001b[0m \u001b[0mNone\u001b[0m\u001b[0;34m\u001b[0m\u001b[0m\n\u001b[1;32m    232\u001b[0m         \u001b[0;32melse\u001b[0m\u001b[0;34m:\u001b[0m\u001b[0;34m\u001b[0m\u001b[0m\n\u001b[0;32m--> 233\u001b[0;31m             \u001b[0mshape\u001b[0m\u001b[0;34m,\u001b[0m \u001b[0mtransfo\u001b[0m \u001b[0;34m=\u001b[0m \u001b[0mself\u001b[0m\u001b[0;34m.\u001b[0m\u001b[0mdispatch2\u001b[0m\u001b[0;34m(\u001b[0m\u001b[0mtype\u001b[0m\u001b[0;34m,\u001b[0m \u001b[0margs\u001b[0m\u001b[0;34m)\u001b[0m\u001b[0;34m\u001b[0m\u001b[0m\n\u001b[0m\u001b[1;32m    234\u001b[0m \u001b[0;34m\u001b[0m\u001b[0m\n\u001b[1;32m    235\u001b[0m         \u001b[0;31m# End of TODO\u001b[0m\u001b[0;34m\u001b[0m\u001b[0;34m\u001b[0m\u001b[0m\n",
        "\u001b[0;32m/home/long/python_ws/groalea/groalea/graphio.pyc\u001b[0m in \u001b[0;36mdispatch2\u001b[0;34m(self, method_name, args)\u001b[0m\n\u001b[1;32m    103\u001b[0m         \u001b[0;32mexcept\u001b[0m\u001b[0;34m:\u001b[0m\u001b[0;34m\u001b[0m\u001b[0m\n\u001b[1;32m    104\u001b[0m             \u001b[0;31m# method name has to be defined as a type\u001b[0m\u001b[0;34m\u001b[0m\u001b[0;34m\u001b[0m\u001b[0m\n\u001b[0;32m--> 105\u001b[0;31m             \u001b[0;32mreturn\u001b[0m \u001b[0mself\u001b[0m\u001b[0;34m.\u001b[0m\u001b[0muniversal_node\u001b[0m\u001b[0;34m(\u001b[0m\u001b[0mmethod_name\u001b[0m\u001b[0;34m,\u001b[0m \u001b[0;34m**\u001b[0m\u001b[0margs\u001b[0m\u001b[0;34m)\u001b[0m\u001b[0;34m\u001b[0m\u001b[0m\n\u001b[0m\u001b[1;32m    106\u001b[0m \u001b[0;34m\u001b[0m\u001b[0m\n\u001b[1;32m    107\u001b[0m     \u001b[0;32mdef\u001b[0m \u001b[0mgraph\u001b[0m\u001b[0;34m(\u001b[0m\u001b[0mself\u001b[0m\u001b[0;34m,\u001b[0m \u001b[0melements\u001b[0m\u001b[0;34m)\u001b[0m\u001b[0;34m:\u001b[0m\u001b[0;34m\u001b[0m\u001b[0m\n",
        "\u001b[0;32m/home/long/python_ws/groalea/groalea/graphio.pyc\u001b[0m in \u001b[0;36muniversal_node\u001b[0;34m(self, type_name, **kwds)\u001b[0m\n\u001b[1;32m    581\u001b[0m             \u001b[0;32mif\u001b[0m \u001b[0mtype_name\u001b[0m\u001b[0;34m.\u001b[0m\u001b[0mtitle\u001b[0m\u001b[0;34m(\u001b[0m\u001b[0;34m)\u001b[0m \u001b[0;32mnot\u001b[0m \u001b[0;32min\u001b[0m \u001b[0m_types\u001b[0m\u001b[0;34m:\u001b[0m\u001b[0;34m\u001b[0m\u001b[0m\n\u001b[1;32m    582\u001b[0m                 raise Exception(\"Unknow object type %s. Known objects are %s.\" % (type_name,\n\u001b[0;32m--> 583\u001b[0;31m                                                                                   sorted(_types.keys())))\n\u001b[0m\u001b[1;32m    584\u001b[0m             \u001b[0;32melse\u001b[0m\u001b[0;34m:\u001b[0m\u001b[0;34m\u001b[0m\u001b[0m\n\u001b[1;32m    585\u001b[0m                 \u001b[0mtype_name\u001b[0m \u001b[0;34m=\u001b[0m \u001b[0mtype_name\u001b[0m\u001b[0;34m.\u001b[0m\u001b[0mtitle\u001b[0m\u001b[0;34m(\u001b[0m\u001b[0;34m)\u001b[0m\u001b[0;34m\u001b[0m\u001b[0m\n",
        "\u001b[0;31mException\u001b[0m: Unknow object type NURBSCurve. Known objects are ['Axiom']."
       ]
      },
      {
       "output_type": "stream",
       "stream": "stdout",
       "text": [
        "pass graph(self, elements) function\n"
       ]
      }
     ],
     "prompt_number": 8
    },
    {
     "cell_type": "code",
     "collapsed": false,
     "input": [
      "from pprint import pprint\n",
      "pprint (vars(g))"
     ],
     "language": "python",
     "metadata": {},
     "outputs": [
      {
       "output_type": "stream",
       "stream": "stdout",
       "text": [
        "{'_edge_property': {'edge_type': {2: '<', 3: '<', 4: '<', 5: '<', 6: '<'}},\n",
        " '_edges': {2: (1, 3), 3: (5, 4), 4: (6, 5), 5: (3, 6), 6: (4, 7)},\n",
        " '_eid_generator': <openalea.core.graph.id_generator.IdGenerator object at 0x7fd9815dd590>,\n",
        " '_root': 1,\n",
        " '_types': {'Axiom': []},\n",
        " '_vertex_property': {'color': {3: Color3(255,255,85),\n",
        "                                4: Color3(255,255,85),\n",
        "                                5: Color3(255,255,85),\n",
        "                                6: Color3(255,255,85),\n",
        "                                7: Color3(255,255,85)},\n",
        "                      'final_geometry': {3: <openalea.plantgl.scenegraph._pglsg.Shape object at 0x7fd9815eb368>,\n",
        "                                         5: <openalea.plantgl.scenegraph._pglsg.Shape object at 0x7fd9815eb470>,\n",
        "                                         7: <openalea.plantgl.scenegraph._pglsg.Shape object at 0x7fd9815eb578>},\n",
        "                      'geometry': {3: <openalea.plantgl.scenegraph._pglsg.Cylinder object at 0x7fd9815eb260>,\n",
        "                                   5: <openalea.plantgl.scenegraph._pglsg.Cylinder object at 0x7fd9815eb3c0>,\n",
        "                                   7: <openalea.plantgl.scenegraph._pglsg.Cylinder object at 0x7fd9815eb4c8>},\n",
        "                      'name': {3: '3', 4: '4', 5: '5', 6: '6', 7: '7'},\n",
        "                      'parameters': {3: {'diameter': '-1.0',\n",
        "                                         'fcolor': '-1',\n",
        "                                         'length': '5.0'},\n",
        "                                     4: {'angle': '30.0'},\n",
        "                                     5: {'diameter': '-1.0',\n",
        "                                         'fcolor': '-1',\n",
        "                                         'length': '5.0'},\n",
        "                                     6: {'angle': '45.0'},\n",
        "                                     7: {'diameter': '-1.0',\n",
        "                                         'fcolor': '-1',\n",
        "                                         'length': '5.0'}},\n",
        "                      'transform': {3: Matrix4( 1, 0, 0, 0 ,\n",
        "         0, 1, 0, 0 ,\n",
        "         0, 0, 1, 5 ,\n",
        "         0, 0, 0, 1 ),\n",
        "                                    4: Matrix4( 0.866025, 0, 0.5, 0 ,\n",
        "         0, 1, 0, 0 ,\n",
        "         -0.5, 0, 0.866025, 0 ,\n",
        "         0, 0, 0, 1 ),\n",
        "                                    5: Matrix4( 1, 0, 0, 0 ,\n",
        "         0, 1, 0, 0 ,\n",
        "         0, 0, 1, 5 ,\n",
        "         0, 0, 0, 1 ),\n",
        "                                    6: Matrix4( 0.707107, 0, 0.707107, 0 ,\n",
        "         0, 1, 0, 0 ,\n",
        "         -0.707107, 0, 0.707107, 0 ,\n",
        "         0, 0, 0, 1 ),\n",
        "                                    7: Matrix4( 1, 0, 0, 0 ,\n",
        "         0, 1, 0, 0 ,\n",
        "         0, 0, 1, 5 ,\n",
        "         0, 0, 0, 1 )},\n",
        "                      'turtle_state': {3: <openalea.groalea.geometry.TurtleState object at 0x7fd9815dd610>,\n",
        "                                       5: <openalea.groalea.geometry.TurtleState object at 0x7fd9815dd690>,\n",
        "                                       7: <openalea.groalea.geometry.TurtleState object at 0x7fd9815dd710>},\n",
        "                      'type': {3: 'F', 4: 'RU', 5: 'F', 6: 'RU', 7: 'F'}},\n",
        " '_vertices': {1: (set([]), set([2])),\n",
        "               3: (set([2]), set([5])),\n",
        "               4: (set([3]), set([6])),\n",
        "               5: (set([4]), set([3])),\n",
        "               6: (set([5]), set([4])),\n",
        "               7: (set([6]), set([]))},\n",
        " '_vid_generator': <openalea.core.graph.id_generator.IdGenerator object at 0x7fd9815dd550>}\n"
       ]
      }
     ],
     "prompt_number": 9
    },
    {
     "cell_type": "code",
     "collapsed": false,
     "input": [
      "pprint (scene)\n",
      "ts  = g.vertex_property(\"turtle_state\")"
     ],
     "language": "python",
     "metadata": {},
     "outputs": [
      {
       "output_type": "stream",
       "stream": "stdout",
       "text": [
        "<openalea.plantgl.scenegraph._pglsg.Scene object at 0x7fdef49be520>\n"
       ]
      }
     ],
     "prompt_number": 10
    },
    {
     "cell_type": "code",
     "collapsed": false,
     "input": [
      "from openalea.groalea.geometry import TurtleState\n",
      "pprint (ts.get(4, TurtleState()))"
     ],
     "language": "python",
     "metadata": {},
     "outputs": [
      {
       "output_type": "stream",
       "stream": "stdout",
       "text": [
        "<openalea.groalea.geometry.TurtleState object at 0x7fdef49c3390>\n"
       ]
      }
     ],
     "prompt_number": 11
    },
    {
     "cell_type": "code",
     "collapsed": false,
     "input": [
      "for i in ts.keys():\n",
      "    print i, ts[i].diameter"
     ],
     "language": "python",
     "metadata": {},
     "outputs": [
      {
       "output_type": "stream",
       "stream": "stdout",
       "text": [
        "4 -1.0\n"
       ]
      }
     ],
     "prompt_number": 12
    },
    {
     "cell_type": "code",
     "collapsed": false,
     "input": [
      "fg = g.vertex_property('final_geometry')"
     ],
     "language": "python",
     "metadata": {},
     "outputs": [],
     "prompt_number": 13
    },
    {
     "cell_type": "code",
     "collapsed": false,
     "input": [
      "from openalea.plantgl.all import *\n",
      "for i in fg.keys():\n",
      "    print i, volume(fg[i])"
     ],
     "language": "python",
     "metadata": {},
     "outputs": [
      {
       "output_type": "stream",
       "stream": "stdout",
       "text": [
        "3 0.0041887902048\n"
       ]
      }
     ],
     "prompt_number": 14
    },
    {
     "cell_type": "code",
     "collapsed": false,
     "input": [],
     "language": "python",
     "metadata": {},
     "outputs": [],
     "prompt_number": 14
    },
    {
     "cell_type": "code",
     "collapsed": false,
     "input": [],
     "language": "python",
     "metadata": {},
     "outputs": []
    }
   ],
   "metadata": {}
  }
 ]
}