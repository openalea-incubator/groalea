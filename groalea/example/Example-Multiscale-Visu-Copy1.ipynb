{
 "metadata": {
  "name": ""
 },
 "nbformat": 3,
 "nbformat_minor": 0,
 "worksheets": [
  {
   "cells": [
    {
     "cell_type": "code",
     "collapsed": false,
     "input": [
      "from openalea.groalea.client import connexion, simulation\n",
      "from openalea.groalea.graphio import xml2graph, graph2xml\n",
      "\n",
      "from openalea.plantgl.all import Viewer"
     ],
     "language": "python",
     "metadata": {},
     "outputs": [],
     "prompt_number": 1
    },
    {
     "cell_type": "code",
     "collapsed": false,
     "input": [
      "%gui qt"
     ],
     "language": "python",
     "metadata": {},
     "outputs": [],
     "prompt_number": 2
    },
    {
     "cell_type": "code",
     "collapsed": false,
     "input": [
      "code = '''\n",
      "module Stem extends Cylinder(20, 2)\n",
      "   {{ setLayer(1); }};\n",
      "module Crown extends Frustum(20, 10, 4)\n",
      "   {{ setLayer(1); }};\n",
      "\n",
      "public void run()\n",
      "[\n",
      "Axiom ==>> ^ s:Stem cr:Crown, ^ Translate(-30, 0, 0) a:F(20, 1)\n",
      "           b:F(20, 0.5) [ M(-15) RU(70) c:F(8, 0.5) ]\n",
      "           [ M(-8) RU(-60) d:F(4, 0.5) ],\n",
      "           s /> a, cr /> b, cr /> c, cr /> d;\n",
      "]\n",
      "'''"
     ],
     "language": "python",
     "metadata": {},
     "outputs": [],
     "prompt_number": 3
    },
    {
     "cell_type": "code",
     "collapsed": false,
     "input": [
      "graph = '''\n",
      "<graph>\n",
      "  <node id=\"2\" type=\"Axiom\"/>\n",
      "  <root root_id=\"1\"/>\n",
      "  <edge id=\"1\" src_id=\"1\" dest_id=\"2\" type=\"successor\"/>\n",
      "</graph>\n",
      "'''"
     ],
     "language": "python",
     "metadata": {},
     "outputs": [],
     "prompt_number": 4
    },
    {
     "cell_type": "code",
     "collapsed": false,
     "input": [
      "# run a simulation\n",
      "conn = connexion('localhost', '58070')\n"
     ],
     "language": "python",
     "metadata": {},
     "outputs": [],
     "prompt_number": 5
    },
    {
     "cell_type": "code",
     "collapsed": false,
     "input": [
      "graph = simulation(code, graph, 'run', conn)"
     ],
     "language": "python",
     "metadata": {},
     "outputs": [],
     "prompt_number": 6
    },
    {
     "cell_type": "code",
     "collapsed": false,
     "input": [
      "print graph"
     ],
     "language": "python",
     "metadata": {},
     "outputs": [
      {
       "output_type": "stream",
       "stream": "stdout",
       "text": [
        "<graph>\n",
        "  <root root_id=\"1\"/>\n",
        "  <node id=\"3\" name=\"\" type=\"F\">\n",
        "    <property name=\"length\" value=\"8.0\"/>\n",
        "    <property name=\"diameter\" value=\"0.5\"/>\n",
        "    <property name=\"fcolor\" value=\"-1\"/>\n",
        "  </node>\n",
        "  <edge id=\"2\" src_id=\"7\" dest_id=\"3\" type=\"successor\"/>\n",
        "  <edge id=\"3\" src_id=\"5\" dest_id=\"3\" type=\"decomposition\"/>\n",
        "  <node id=\"4\" name=\"\" type=\"M\">\n",
        "    <property name=\"length\" value=\"-15.0\"/>\n",
        "  </node>\n",
        "  <edge id=\"4\" src_id=\"11\" dest_id=\"4\" type=\"branch\"/>\n",
        "  <type name=\"Crown\">\n",
        "    <extends name=\"Frustum\"/>\n",
        "  </type>\n",
        "  <node id=\"5\" name=\"\" type=\"Crown\">\n",
        "    <property name=\"radius\" value=\"10.0\"/>\n",
        "    <property name=\"height\" value=\"20.0\"/>\n",
        "    <property name=\"taper\" value=\"0.4\"/>\n",
        "    <property name=\"top_open\" value=\"false\"/>\n",
        "    <property name=\"bottom_open\" value=\"false\"/>\n",
        "  </node>\n",
        "  <edge id=\"5\" src_id=\"10\" dest_id=\"5\" type=\"successor\"/>\n",
        "  <node id=\"6\" name=\"\" type=\"M\">\n",
        "    <property name=\"length\" value=\"-8.0\"/>\n",
        "  </node>\n",
        "  <edge id=\"6\" src_id=\"11\" dest_id=\"6\" type=\"branch\"/>\n",
        "  <node id=\"7\" name=\"\" type=\"RU\">\n",
        "    <property name=\"angle\" value=\"70.0\"/>\n",
        "  </node>\n",
        "  <edge id=\"7\" src_id=\"4\" dest_id=\"7\" type=\"successor\"/>\n",
        "  <node id=\"8\" name=\"\" type=\"F\">\n",
        "    <property name=\"length\" value=\"20.0\"/>\n",
        "    <property name=\"diameter\" value=\"1.0\"/>\n",
        "    <property name=\"fcolor\" value=\"-1\"/>\n",
        "  </node>\n",
        "  <edge id=\"8\" src_id=\"13\" dest_id=\"8\" type=\"successor\"/>\n",
        "  <edge id=\"9\" src_id=\"10\" dest_id=\"8\" type=\"decomposition\"/>\n",
        "  <node id=\"9\" name=\"\" type=\"RU\">\n",
        "    <property name=\"angle\" value=\"-60.0\"/>\n",
        "  </node>\n",
        "  <edge id=\"10\" src_id=\"6\" dest_id=\"9\" type=\"successor\"/>\n",
        "  <type name=\"Stem\">\n",
        "    <extends name=\"Cylinder\"/>\n",
        "  </type>\n",
        "  <node id=\"10\" name=\"\" type=\"Stem\">\n",
        "    <property name=\"radius\" value=\"2.0\"/>\n",
        "    <property name=\"height\" value=\"20.0\"/>\n",
        "    <property name=\"top_open\" value=\"false\"/>\n",
        "    <property name=\"bottom_open\" value=\"false\"/>\n",
        "  </node>\n",
        "  <edge id=\"11\" src_id=\"1\" dest_id=\"10\" type=\"successor\"/>\n",
        "  <node id=\"11\" name=\"\" type=\"F\">\n",
        "    <property name=\"length\" value=\"20.0\"/>\n",
        "    <property name=\"diameter\" value=\"0.5\"/>\n",
        "    <property name=\"fcolor\" value=\"-1\"/>\n",
        "  </node>\n",
        "  <edge id=\"12\" src_id=\"8\" dest_id=\"11\" type=\"successor\"/>\n",
        "  <edge id=\"13\" src_id=\"5\" dest_id=\"11\" type=\"decomposition\"/>\n",
        "  <node id=\"12\" name=\"\" type=\"F\">\n",
        "    <property name=\"length\" value=\"4.0\"/>\n",
        "    <property name=\"diameter\" value=\"0.5\"/>\n",
        "    <property name=\"fcolor\" value=\"-1\"/>\n",
        "  </node>\n",
        "  <edge id=\"14\" src_id=\"9\" dest_id=\"12\" type=\"successor\"/>\n",
        "  <edge id=\"15\" src_id=\"5\" dest_id=\"12\" type=\"decomposition\"/>\n",
        "  <node id=\"13\" name=\"\" type=\"Translate\">\n",
        "    <property name=\"translateX\" value=\"-30.0\"/>\n",
        "    <property name=\"translateY\" value=\"0.0\"/>\n",
        "    <property name=\"translateZ\" value=\"0.0\"/>\n",
        "  </node>\n",
        "  <edge id=\"16\" src_id=\"1\" dest_id=\"13\" type=\"successor\"/>\n",
        "</graph>\n"
       ]
      }
     ],
     "prompt_number": 7
    },
    {
     "cell_type": "code",
     "collapsed": false,
     "input": [
      "g, scene = xml2graph(graph)\n",
      "Viewer.display(scene)"
     ],
     "language": "python",
     "metadata": {},
     "outputs": [
      {
       "ename": "AttributeError",
       "evalue": "'module' object has no attribute 'Frustrum'",
       "output_type": "pyerr",
       "traceback": [
        "\u001b[0;31m---------------------------------------------------------------------------\u001b[0m\n\u001b[0;31mAttributeError\u001b[0m                            Traceback (most recent call last)",
        "\u001b[0;32m<ipython-input-8-b698b90919d6>\u001b[0m in \u001b[0;36m<module>\u001b[0;34m()\u001b[0m\n\u001b[0;32m----> 1\u001b[0;31m \u001b[0mg\u001b[0m\u001b[0;34m,\u001b[0m \u001b[0mscene\u001b[0m \u001b[0;34m=\u001b[0m \u001b[0mxml2graph\u001b[0m\u001b[0;34m(\u001b[0m\u001b[0mgraph\u001b[0m\u001b[0;34m)\u001b[0m\u001b[0;34m\u001b[0m\u001b[0m\n\u001b[0m\u001b[1;32m      2\u001b[0m \u001b[0mViewer\u001b[0m\u001b[0;34m.\u001b[0m\u001b[0mdisplay\u001b[0m\u001b[0;34m(\u001b[0m\u001b[0mscene\u001b[0m\u001b[0;34m)\u001b[0m\u001b[0;34m\u001b[0m\u001b[0m\n",
        "\u001b[0;32m/home/long/groalea/groalea/graphio.pyc\u001b[0m in \u001b[0;36mxml2graph\u001b[0;34m(xml_graph)\u001b[0m\n\u001b[1;32m    905\u001b[0m     \u001b[0mf\u001b[0m \u001b[0;34m=\u001b[0m \u001b[0mStringIO\u001b[0m\u001b[0;34m(\u001b[0m\u001b[0mxml_graph\u001b[0m\u001b[0;34m)\u001b[0m\u001b[0;34m\u001b[0m\u001b[0m\n\u001b[1;32m    906\u001b[0m     \u001b[0mparser\u001b[0m \u001b[0;34m=\u001b[0m \u001b[0mParser\u001b[0m\u001b[0;34m(\u001b[0m\u001b[0;34m)\u001b[0m\u001b[0;34m\u001b[0m\u001b[0m\n\u001b[0;32m--> 907\u001b[0;31m     \u001b[0mg\u001b[0m\u001b[0;34m,\u001b[0m \u001b[0mscene\u001b[0m \u001b[0;34m=\u001b[0m \u001b[0mparser\u001b[0m\u001b[0;34m.\u001b[0m\u001b[0mparse\u001b[0m\u001b[0;34m(\u001b[0m\u001b[0mf\u001b[0m\u001b[0;34m)\u001b[0m\u001b[0;34m\u001b[0m\u001b[0m\n\u001b[0m\u001b[1;32m    908\u001b[0m     \u001b[0mf\u001b[0m\u001b[0;34m.\u001b[0m\u001b[0mclose\u001b[0m\u001b[0;34m(\u001b[0m\u001b[0;34m)\u001b[0m\u001b[0;34m\u001b[0m\u001b[0m\n\u001b[1;32m    909\u001b[0m     \u001b[0;32mreturn\u001b[0m \u001b[0mg\u001b[0m\u001b[0;34m,\u001b[0m \u001b[0mscene\u001b[0m\u001b[0;34m\u001b[0m\u001b[0m\n",
        "\u001b[0;32m/home/long/groalea/groalea/graphio.pyc\u001b[0m in \u001b[0;36mparse\u001b[0;34m(self, fn)\u001b[0m\n\u001b[1;32m     66\u001b[0m         \u001b[0mself\u001b[0m\u001b[0;34m.\u001b[0m\u001b[0mhas_type\u001b[0m \u001b[0;34m=\u001b[0m \u001b[0mFalse\u001b[0m\u001b[0;34m\u001b[0m\u001b[0m\n\u001b[1;32m     67\u001b[0m         \u001b[0mself\u001b[0m\u001b[0;34m.\u001b[0m\u001b[0mtypes\u001b[0m\u001b[0;34m(\u001b[0m\u001b[0mdoc\u001b[0m\u001b[0;34m.\u001b[0m\u001b[0mfindall\u001b[0m\u001b[0;34m(\u001b[0m\u001b[0;34m'type'\u001b[0m\u001b[0;34m)\u001b[0m\u001b[0;34m)\u001b[0m\u001b[0;34m\u001b[0m\u001b[0m\n\u001b[0;32m---> 68\u001b[0;31m         \u001b[0mself\u001b[0m\u001b[0;34m.\u001b[0m\u001b[0mdispatch\u001b[0m\u001b[0;34m(\u001b[0m\u001b[0mroot\u001b[0m\u001b[0;34m)\u001b[0m\u001b[0;34m\u001b[0m\u001b[0m\n\u001b[0m\u001b[1;32m     69\u001b[0m         \u001b[0mself\u001b[0m\u001b[0;34m.\u001b[0m\u001b[0mscenegraph\u001b[0m\u001b[0;34m(\u001b[0m\u001b[0;34m)\u001b[0m\u001b[0;34m\u001b[0m\u001b[0m\n\u001b[1;32m     70\u001b[0m \u001b[0;34m\u001b[0m\u001b[0m\n",
        "\u001b[0;32m/home/long/groalea/groalea/graphio.pyc\u001b[0m in \u001b[0;36mdispatch\u001b[0;34m(self, elt)\u001b[0m\n\u001b[1;32m     75\u001b[0m             \u001b[0mlist\u001b[0m\u001b[0;34m(\u001b[0m\u001b[0melt\u001b[0m\u001b[0;34m)\u001b[0m\u001b[0;34m\u001b[0m\u001b[0m\n\u001b[1;32m     76\u001b[0m \u001b[0;34m\u001b[0m\u001b[0m\n\u001b[0;32m---> 77\u001b[0;31m         \u001b[0;32mreturn\u001b[0m \u001b[0mself\u001b[0m\u001b[0;34m.\u001b[0m\u001b[0m__getattribute__\u001b[0m\u001b[0;34m(\u001b[0m\u001b[0melt\u001b[0m\u001b[0;34m.\u001b[0m\u001b[0mtag\u001b[0m\u001b[0;34m)\u001b[0m\u001b[0;34m(\u001b[0m\u001b[0mlist\u001b[0m\u001b[0;34m(\u001b[0m\u001b[0melt\u001b[0m\u001b[0;34m)\u001b[0m\u001b[0;34m,\u001b[0m \u001b[0;34m**\u001b[0m\u001b[0melt\u001b[0m\u001b[0;34m.\u001b[0m\u001b[0mattrib\u001b[0m\u001b[0;34m)\u001b[0m\u001b[0;34m\u001b[0m\u001b[0m\n\u001b[0m\u001b[1;32m     78\u001b[0m \u001b[0;34m\u001b[0m\u001b[0m\n\u001b[1;32m     79\u001b[0m     \u001b[0;32mdef\u001b[0m \u001b[0mdispatch2\u001b[0m\u001b[0;34m(\u001b[0m\u001b[0mself\u001b[0m\u001b[0;34m,\u001b[0m \u001b[0mmethod_name\u001b[0m\u001b[0;34m,\u001b[0m \u001b[0margs\u001b[0m\u001b[0;34m)\u001b[0m\u001b[0;34m:\u001b[0m\u001b[0;34m\u001b[0m\u001b[0m\n",
        "\u001b[0;32m/home/long/groalea/groalea/graphio.pyc\u001b[0m in \u001b[0;36mgraph\u001b[0;34m(self, elements)\u001b[0m\n\u001b[1;32m    104\u001b[0m         \u001b[0;31m# Process / Parse all the xml nodes contains directly inside the <graph> node.\u001b[0m\u001b[0;34m\u001b[0m\u001b[0;34m\u001b[0m\u001b[0m\n\u001b[1;32m    105\u001b[0m         \u001b[0;32mfor\u001b[0m \u001b[0melt\u001b[0m \u001b[0;32min\u001b[0m \u001b[0melements\u001b[0m\u001b[0;34m:\u001b[0m\u001b[0;34m\u001b[0m\u001b[0m\n\u001b[0;32m--> 106\u001b[0;31m             \u001b[0mself\u001b[0m\u001b[0;34m.\u001b[0m\u001b[0mdispatch\u001b[0m\u001b[0;34m(\u001b[0m\u001b[0melt\u001b[0m\u001b[0;34m)\u001b[0m\u001b[0;34m\u001b[0m\u001b[0m\n\u001b[0m\u001b[1;32m    107\u001b[0m \u001b[0;34m\u001b[0m\u001b[0m\n\u001b[1;32m    108\u001b[0m         \u001b[0;31m# add the edges to the graph, when all the nodes have been added.\u001b[0m\u001b[0;34m\u001b[0m\u001b[0;34m\u001b[0m\u001b[0m\n",
        "\u001b[0;32m/home/long/groalea/groalea/graphio.pyc\u001b[0m in \u001b[0;36mdispatch\u001b[0;34m(self, elt)\u001b[0m\n\u001b[1;32m     75\u001b[0m             \u001b[0mlist\u001b[0m\u001b[0;34m(\u001b[0m\u001b[0melt\u001b[0m\u001b[0;34m)\u001b[0m\u001b[0;34m\u001b[0m\u001b[0m\n\u001b[1;32m     76\u001b[0m \u001b[0;34m\u001b[0m\u001b[0m\n\u001b[0;32m---> 77\u001b[0;31m         \u001b[0;32mreturn\u001b[0m \u001b[0mself\u001b[0m\u001b[0;34m.\u001b[0m\u001b[0m__getattribute__\u001b[0m\u001b[0;34m(\u001b[0m\u001b[0melt\u001b[0m\u001b[0;34m.\u001b[0m\u001b[0mtag\u001b[0m\u001b[0;34m)\u001b[0m\u001b[0;34m(\u001b[0m\u001b[0mlist\u001b[0m\u001b[0;34m(\u001b[0m\u001b[0melt\u001b[0m\u001b[0;34m)\u001b[0m\u001b[0;34m,\u001b[0m \u001b[0;34m**\u001b[0m\u001b[0melt\u001b[0m\u001b[0;34m.\u001b[0m\u001b[0mattrib\u001b[0m\u001b[0;34m)\u001b[0m\u001b[0;34m\u001b[0m\u001b[0m\n\u001b[0m\u001b[1;32m     78\u001b[0m \u001b[0;34m\u001b[0m\u001b[0m\n\u001b[1;32m     79\u001b[0m     \u001b[0;32mdef\u001b[0m \u001b[0mdispatch2\u001b[0m\u001b[0;34m(\u001b[0m\u001b[0mself\u001b[0m\u001b[0;34m,\u001b[0m \u001b[0mmethod_name\u001b[0m\u001b[0;34m,\u001b[0m \u001b[0margs\u001b[0m\u001b[0;34m)\u001b[0m\u001b[0;34m:\u001b[0m\u001b[0;34m\u001b[0m\u001b[0m\n",
        "\u001b[0;32m/home/long/groalea/groalea/graphio.pyc\u001b[0m in \u001b[0;36mnode\u001b[0;34m(self, properties, id, type, name)\u001b[0m\n\u001b[1;32m    201\u001b[0m             \u001b[0mshape\u001b[0m\u001b[0;34m,\u001b[0m \u001b[0mtransfo\u001b[0m \u001b[0;34m=\u001b[0m \u001b[0mNone\u001b[0m\u001b[0;34m,\u001b[0m \u001b[0mNone\u001b[0m\u001b[0;34m\u001b[0m\u001b[0m\n\u001b[1;32m    202\u001b[0m         \u001b[0;32melse\u001b[0m\u001b[0;34m:\u001b[0m\u001b[0;34m\u001b[0m\u001b[0m\n\u001b[0;32m--> 203\u001b[0;31m             \u001b[0mshape\u001b[0m\u001b[0;34m,\u001b[0m \u001b[0mtransfo\u001b[0m \u001b[0;34m=\u001b[0m \u001b[0mself\u001b[0m\u001b[0;34m.\u001b[0m\u001b[0mdispatch2\u001b[0m\u001b[0;34m(\u001b[0m\u001b[0mtype\u001b[0m\u001b[0;34m,\u001b[0m \u001b[0margs\u001b[0m\u001b[0;34m)\u001b[0m\u001b[0;34m\u001b[0m\u001b[0m\n\u001b[0m\u001b[1;32m    204\u001b[0m \u001b[0;34m\u001b[0m\u001b[0m\n\u001b[1;32m    205\u001b[0m         \u001b[0;31m# End of TODO\u001b[0m\u001b[0;34m\u001b[0m\u001b[0;34m\u001b[0m\u001b[0m\n",
        "\u001b[0;32m/home/long/groalea/groalea/graphio.pyc\u001b[0m in \u001b[0;36mdispatch2\u001b[0;34m(self, method_name, args)\u001b[0m\n\u001b[1;32m     82\u001b[0m         \u001b[0;32mexcept\u001b[0m\u001b[0;34m:\u001b[0m\u001b[0;34m\u001b[0m\u001b[0m\n\u001b[1;32m     83\u001b[0m             \u001b[0;31m# method name has to be defined as a type\u001b[0m\u001b[0;34m\u001b[0m\u001b[0;34m\u001b[0m\u001b[0m\n\u001b[0;32m---> 84\u001b[0;31m             \u001b[0;32mreturn\u001b[0m \u001b[0mself\u001b[0m\u001b[0;34m.\u001b[0m\u001b[0muniversal_node\u001b[0m\u001b[0;34m(\u001b[0m\u001b[0mmethod_name\u001b[0m\u001b[0;34m,\u001b[0m \u001b[0;34m**\u001b[0m\u001b[0margs\u001b[0m\u001b[0;34m)\u001b[0m\u001b[0;34m\u001b[0m\u001b[0m\n\u001b[0m\u001b[1;32m     85\u001b[0m \u001b[0;34m\u001b[0m\u001b[0m\n\u001b[1;32m     86\u001b[0m     \u001b[0;32mdef\u001b[0m \u001b[0mgraph\u001b[0m\u001b[0;34m(\u001b[0m\u001b[0mself\u001b[0m\u001b[0;34m,\u001b[0m \u001b[0melements\u001b[0m\u001b[0;34m)\u001b[0m\u001b[0;34m:\u001b[0m\u001b[0;34m\u001b[0m\u001b[0m\n",
        "\u001b[0;32m/home/long/groalea/groalea/graphio.pyc\u001b[0m in \u001b[0;36muniversal_node\u001b[0;34m(self, type_name, **kwds)\u001b[0m\n\u001b[1;32m    622\u001b[0m         \u001b[0mmethod\u001b[0m \u001b[0;34m=\u001b[0m \u001b[0mself\u001b[0m\u001b[0;34m.\u001b[0m\u001b[0m_geoms\u001b[0m\u001b[0;34m.\u001b[0m\u001b[0mget\u001b[0m\u001b[0;34m(\u001b[0m\u001b[0mtype_name\u001b[0m\u001b[0;34m)\u001b[0m\u001b[0;34m\u001b[0m\u001b[0m\n\u001b[1;32m    623\u001b[0m         \u001b[0;32mif\u001b[0m \u001b[0mmethod\u001b[0m\u001b[0;34m:\u001b[0m\u001b[0;34m\u001b[0m\u001b[0m\n\u001b[0;32m--> 624\u001b[0;31m             \u001b[0;32mreturn\u001b[0m \u001b[0mself\u001b[0m\u001b[0;34m.\u001b[0m\u001b[0m__getattribute__\u001b[0m\u001b[0;34m(\u001b[0m\u001b[0mmethod\u001b[0m\u001b[0;34m)\u001b[0m\u001b[0;34m(\u001b[0m\u001b[0;34m**\u001b[0m\u001b[0mkwds\u001b[0m\u001b[0;34m)\u001b[0m\u001b[0;34m\u001b[0m\u001b[0m\n\u001b[0m\u001b[1;32m    625\u001b[0m         \u001b[0;32melse\u001b[0m\u001b[0;34m:\u001b[0m\u001b[0;34m\u001b[0m\u001b[0m\n\u001b[1;32m    626\u001b[0m             \u001b[0;31m# print '%s has no geometric object associated.'%(type_name,)\u001b[0m\u001b[0;34m\u001b[0m\u001b[0;34m\u001b[0m\u001b[0m\n",
        "\u001b[0;32m/home/long/groalea/groalea/graphio.pyc\u001b[0m in \u001b[0;36mFrustum\u001b[0;34m(self, radius, height, taper, **kwds)\u001b[0m\n\u001b[1;32m    262\u001b[0m         \u001b[0msolid\u001b[0m \u001b[0;34m=\u001b[0m \u001b[0;32mnot\u001b[0m\u001b[0;34m(\u001b[0m\u001b[0mbool\u001b[0m\u001b[0;34m(\u001b[0m\u001b[0mbottom_open\u001b[0m\u001b[0;34m)\u001b[0m \u001b[0;32mand\u001b[0m \u001b[0mbool\u001b[0m\u001b[0;34m(\u001b[0m\u001b[0mtop_open\u001b[0m\u001b[0;34m)\u001b[0m\u001b[0;34m)\u001b[0m\u001b[0;34m\u001b[0m\u001b[0m\n\u001b[1;32m    263\u001b[0m \u001b[0;34m\u001b[0m\u001b[0m\n\u001b[0;32m--> 264\u001b[0;31m         return (pgl.Frustrum(radius=radius, height=height, taper=taper, solid=solid),\n\u001b[0m\u001b[1;32m    265\u001b[0m                 pgl.Matrix4.translation(Vector3(0, 0, height)))\n\u001b[1;32m    266\u001b[0m \u001b[0;34m\u001b[0m\u001b[0m\n",
        "\u001b[0;31mAttributeError\u001b[0m: 'module' object has no attribute 'Frustrum'"
       ]
      }
     ],
     "prompt_number": 8
    },
    {
     "cell_type": "code",
     "collapsed": false,
     "input": [
      "from pprint import pprint\n",
      "pprint (vars(g))"
     ],
     "language": "python",
     "metadata": {},
     "outputs": [
      {
       "output_type": "stream",
       "stream": "stdout",
       "text": [
        "{'_edge_property': {'edge_type': {2: '<',\n",
        "                                  3: '<',\n",
        "                                  4: '<',\n",
        "                                  5: '<',\n",
        "                                  6: '<',\n",
        "                                  7: '+',\n",
        "                                  8: '<',\n",
        "                                  9: '<'}},\n",
        " '_edges': {2: (10, 3),\n",
        "            3: (8, 4),\n",
        "            4: (7, 5),\n",
        "            5: (3, 6),\n",
        "            6: (4, 7),\n",
        "            7: (3, 8),\n",
        "            8: (6, 9),\n",
        "            9: (1, 10)},\n",
        " '_eid_generator': <openalea.core.graph.id_generator.IdGenerator object at 0x7ffe2c169750>,\n",
        " '_root': 1,\n",
        " '_types': {'Axiom': []},\n",
        " '_vertex_property': {'color': {1: Color3(85,85,85),\n",
        "                                3: Color3(255,255,85),\n",
        "                                4: Color3(255,255,85),\n",
        "                                5: Color3(0,170,0),\n",
        "                                6: Color3(255,255,85),\n",
        "                                7: Color3(0,170,0),\n",
        "                                8: Color3(255,255,85),\n",
        "                                9: Color3(255,255,85),\n",
        "                                10: Color3(85,85,85)},\n",
        "                      'final_geometry': {3: <openalea.plantgl.scenegraph._pglsg.Shape object at 0x7ffe10b23628>,\n",
        "                                         5: <openalea.plantgl.scenegraph._pglsg.Shape object at 0x7ffe10b23890>,\n",
        "                                         9: <openalea.plantgl.scenegraph._pglsg.Shape object at 0x7ffe10b23730>},\n",
        "                      'geometry': {3: <openalea.plantgl.scenegraph._pglsg.Cylinder object at 0x7ffe10b23520>,\n",
        "                                   5: <openalea.plantgl.scenegraph._pglsg.Cylinder object at 0x7ffe10b23788>,\n",
        "                                   9: <openalea.plantgl.scenegraph._pglsg.Cylinder object at 0x7ffe10b235d0>},\n",
        "                      'name': {3: '3',\n",
        "                               4: '4',\n",
        "                               5: '5',\n",
        "                               6: '6',\n",
        "                               7: '7',\n",
        "                               8: '8',\n",
        "                               9: '9',\n",
        "                               10: '10'},\n",
        "                      'parameters': {3: {'diameter': '0.1',\n",
        "                                         'fcolor': '-1',\n",
        "                                         'length': '2.0'},\n",
        "                                     4: {'color': '2'},\n",
        "                                     5: {'diameter': '-1.0',\n",
        "                                         'fcolor': '-1',\n",
        "                                         'length': '2.0'},\n",
        "                                     6: {'angle': '30.0'},\n",
        "                                     7: {'length': '1.0'},\n",
        "                                     8: {'diameter': '1.0'},\n",
        "                                     9: {'diameter': '-1.0',\n",
        "                                         'fcolor': '-1',\n",
        "                                         'length': '5.0'},\n",
        "                                     10: {'diameter': '0.4'}},\n",
        "                      'transform': {3: Matrix4( 1, 0, 0, 0 ,\n",
        "         0, 1, 0, 0 ,\n",
        "         0, 0, 1, 2 ,\n",
        "         0, 0, 0, 1 ),\n",
        "                                    5: Matrix4( 1, 0, 0, 0 ,\n",
        "         0, 1, 0, 0 ,\n",
        "         0, 0, 1, 2 ,\n",
        "         0, 0, 0, 1 ),\n",
        "                                    6: Matrix4( 0.866025, 0, 0.5, 0 ,\n",
        "         0, 1, 0, 0 ,\n",
        "         -0.5, 0, 0.866025, 0 ,\n",
        "         0, 0, 0, 1 ),\n",
        "                                    9: Matrix4( 1, 0, 0, 0 ,\n",
        "         0, 1, 0, 0 ,\n",
        "         0, 0, 1, 5 ,\n",
        "         0, 0, 0, 1 )},\n",
        "                      'turtle_state': {3: <openalea.groalea.geometry.TurtleState object at 0x7ffe2c1697d0>,\n",
        "                                       4: <openalea.groalea.geometry.TurtleState object at 0x7ffe2c169850>,\n",
        "                                       5: <openalea.groalea.geometry.TurtleState object at 0x7ffe2c169890>,\n",
        "                                       7: <openalea.groalea.geometry.TurtleState object at 0x7ffe2c169910>,\n",
        "                                       8: <openalea.groalea.geometry.TurtleState object at 0x7ffe2c169950>,\n",
        "                                       9: <openalea.groalea.geometry.TurtleState object at 0x7ffe2c169990>,\n",
        "                                       10: <openalea.groalea.geometry.TurtleState object at 0x7ffe2c169a10>},\n",
        "                      'type': {3: 'F',\n",
        "                               4: 'P',\n",
        "                               5: 'F',\n",
        "                               6: 'RU',\n",
        "                               7: 'L',\n",
        "                               8: 'D',\n",
        "                               9: 'F',\n",
        "                               10: 'D'}},\n",
        " '_vertices': {1: (set([]), set([9])),\n",
        "               3: (set([2]), set([5, 7])),\n",
        "               4: (set([3]), set([6])),\n",
        "               5: (set([4]), set([])),\n",
        "               6: (set([5]), set([8])),\n",
        "               7: (set([6]), set([4])),\n",
        "               8: (set([7]), set([3])),\n",
        "               9: (set([8]), set([])),\n",
        "               10: (set([9]), set([2]))},\n",
        " '_vid_generator': <openalea.core.graph.id_generator.IdGenerator object at 0x7ffe2c169710>}\n"
       ]
      }
     ],
     "prompt_number": 9
    },
    {
     "cell_type": "code",
     "collapsed": false,
     "input": [
      "ts  = g.vertex_property(\"turtle_state\")"
     ],
     "language": "python",
     "metadata": {},
     "outputs": [],
     "prompt_number": 10
    },
    {
     "cell_type": "code",
     "collapsed": false,
     "input": [
      "from openalea.groalea.geometry import TurtleState\n",
      "pprint (ts.get(4, TurtleState()))"
     ],
     "language": "python",
     "metadata": {},
     "outputs": [
      {
       "output_type": "stream",
       "stream": "stdout",
       "text": [
        "<openalea.groalea.geometry.TurtleState object at 0x7ffe2c169850>\n"
       ]
      }
     ],
     "prompt_number": 11
    },
    {
     "cell_type": "code",
     "collapsed": false,
     "input": [
      "for i in ts.keys():\n",
      "    print i, ts[i].diameter"
     ],
     "language": "python",
     "metadata": {},
     "outputs": [
      {
       "output_type": "stream",
       "stream": "stdout",
       "text": [
        "3 0.1\n",
        "4 -1.0\n",
        "5 -1.0\n",
        "7 -1.0\n",
        "8 -1.0\n",
        "9 -1.0\n",
        "10 -1.0\n"
       ]
      }
     ],
     "prompt_number": 12
    },
    {
     "cell_type": "code",
     "collapsed": false,
     "input": [
      "fg = g.vertex_property('final_geometry')"
     ],
     "language": "python",
     "metadata": {},
     "outputs": [],
     "prompt_number": 13
    },
    {
     "cell_type": "code",
     "collapsed": false,
     "input": [
      "from openalea.plantgl.all import *\n",
      "for i in fg.keys():\n",
      "    print i, volume(fg[i])"
     ],
     "language": "python",
     "metadata": {},
     "outputs": [
      {
       "output_type": "stream",
       "stream": "stdout",
       "text": [
        "9 0.628318530718\n",
        "3 0.0157079632679\n",
        "5 1.57079632679\n"
       ]
      }
     ],
     "prompt_number": 14
    },
    {
     "cell_type": "code",
     "collapsed": false,
     "input": [],
     "language": "python",
     "metadata": {},
     "outputs": [],
     "prompt_number": "*"
    },
    {
     "cell_type": "code",
     "collapsed": false,
     "input": [],
     "language": "python",
     "metadata": {},
     "outputs": []
    }
   ],
   "metadata": {}
  }
 ]
}